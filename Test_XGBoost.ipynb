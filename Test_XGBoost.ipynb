{
 "cells": [
  {
   "cell_type": "markdown",
   "id": "84d539e4",
   "metadata": {},
   "source": [
    "# LightGBM vs XGBoost"
   ]
  },
  {
   "cell_type": "code",
   "execution_count": 6,
   "id": "3bfb4634",
   "metadata": {},
   "outputs": [],
   "source": [
    "import json\n",
    "\n",
    "import numpy as np  \n",
    "import random\n",
    "\n",
    "from lightgbm import LGBMClassifier\n",
    "from xgboost import XGBClassifier\n",
    "from sklearn.model_selection import KFold, train_test_split\n",
    "from category_encoders import CountEncoder\n",
    "from sklearn.pipeline import Pipeline\n",
    "from sklearn.metrics import log_loss, accuracy_score, f1_score, fbeta_score\n",
    "\n",
    "import warnings\n",
    "warnings.filterwarnings('ignore')"
   ]
  },
  {
   "cell_type": "code",
   "execution_count": 2,
   "id": "1fe1e2fa",
   "metadata": {},
   "outputs": [],
   "source": [
    "# carica la struttura dati\n",
    "with open('data_structure.json') as json_file:\n",
    "    ds = json.load(json_file)"
   ]
  },
  {
   "cell_type": "code",
   "execution_count": 3,
   "id": "b2e80b46",
   "metadata": {},
   "outputs": [],
   "source": [
    "# prendi le label del dizionario e rimescolale\n",
    "keys = list(ds.keys())\n",
    "random.shuffle(keys)\n",
    "\n",
    "shuffled_ds = {}\n",
    "for key in keys:\n",
    "    shuffled_ds.update({key: ds[key]})"
   ]
  },
  {
   "cell_type": "code",
   "execution_count": 4,
   "id": "0a052925",
   "metadata": {},
   "outputs": [],
   "source": [
    "# separa le labels(y) dai vettori di embedding (x)\n",
    "labels = list(shuffled_ds.keys())\n",
    "embeddings = list(shuffled_ds.values())\n",
    "\n",
    "# delle label prendi solo il nome dello speaker andando ad eliminare la parte '-numerofile.wav'\n",
    "for i in range(len(labels)):\n",
    "    sep = '-'\n",
    "    labels[i] = labels[i].split(sep, 1)[0]"
   ]
  },
  {
   "cell_type": "code",
   "execution_count": 8,
   "id": "2e16e2cb",
   "metadata": {},
   "outputs": [],
   "source": [
    "X_train, X_test, y_train, y_test = train_test_split(embeddings, labels, test_size=0.33, random_state=42)\n",
    "\n",
    "n_train_samples = len(X_train)\n",
    "n_test_samples = len(X_test)"
   ]
  },
  {
   "cell_type": "markdown",
   "id": "09482e73",
   "metadata": {},
   "source": [
    "### XGBoost"
   ]
  },
  {
   "cell_type": "code",
   "execution_count": 9,
   "id": "5535a191",
   "metadata": {},
   "outputs": [],
   "source": [
    "clf = XGBClassifier(n_estimators=100,learning_rate=0.03,eval_metric='mae')"
   ]
  },
  {
   "cell_type": "code",
   "execution_count": 10,
   "id": "3f2ebee7",
   "metadata": {},
   "outputs": [
    {
     "data": {
      "text/plain": [
       "XGBClassifier(base_score=0.5, booster='gbtree', colsample_bylevel=1,\n",
       "              colsample_bynode=1, colsample_bytree=1, eval_metric='mae',\n",
       "              gamma=0, gpu_id=-1, importance_type='gain',\n",
       "              interaction_constraints='', learning_rate=0.03, max_delta_step=0,\n",
       "              max_depth=6, min_child_weight=1, missing=nan,\n",
       "              monotone_constraints='()', n_estimators=100, n_jobs=0,\n",
       "              num_parallel_tree=1, objective='multi:softprob', random_state=0,\n",
       "              reg_alpha=0, reg_lambda=1, scale_pos_weight=None, subsample=1,\n",
       "              tree_method='exact', validate_parameters=1, verbosity=None)"
      ]
     },
     "execution_count": 10,
     "metadata": {},
     "output_type": "execute_result"
    }
   ],
   "source": [
    "clf.fit(np.reshape(np.array(X_train), [n_train_samples,512]), y_train)"
   ]
  },
  {
   "cell_type": "code",
   "execution_count": 11,
   "id": "82c2052f",
   "metadata": {},
   "outputs": [],
   "source": [
    "y_pred = clf.predict(np.reshape(np.array(X_test), [n_test_samples,512]))\n",
    "accuracy = accuracy_score(y_test, y_pred)\n",
    "f1 = f1_score(y_test, y_pred, average='weighted')\n",
    "fb = fbeta_score(y_test, y_pred, 0.5, average='weighted')"
   ]
  },
  {
   "cell_type": "code",
   "execution_count": 12,
   "id": "bed1acfb",
   "metadata": {},
   "outputs": [
    {
     "name": "stdout",
     "output_type": "stream",
     "text": [
      "Accuracy Score is:  0.9191919191919192\n",
      "F1 score is:  0.9190137628517716\n",
      "Fbeta Score is:  0.9201854207113762\n"
     ]
    }
   ],
   "source": [
    "print('Accuracy Score is: ', accuracy)\n",
    "print('F1 score is: ', f1)\n",
    "print('Fbeta Score is: ', fb)"
   ]
  },
  {
   "cell_type": "code",
   "execution_count": 17,
   "id": "6f98828a",
   "metadata": {},
   "outputs": [
    {
     "name": "stdout",
     "output_type": "stream",
     "text": [
      "Speaker is:  Roberta_S\n",
      "Prediction is:  Luigi_Saetta\n",
      "Speaker is:  Luigi_Saetta\n",
      "Prediction is:  Jens_Stoltenberg\n",
      "Speaker is:  Lorenzo_DeMarchis\n",
      "Prediction is:  Jens_Stoltenberg\n",
      "Speaker is:  Roberta_S\n",
      "Prediction is:  Luigi_Saetta\n",
      "Speaker is:  Lorenzo_DeMarchis\n",
      "Prediction is:  Jens_Stoltenberg\n",
      "Speaker is:  Lorenzo_DeMarchis\n",
      "Prediction is:  Jens_Stoltenberg\n",
      "Speaker is:  Nelson_Mandela\n",
      "Prediction is:  Julia_Gillard\n",
      "Speaker is:  Magaret_Tarcher\n",
      "Prediction is:  Jens_Stoltenberg\n",
      "Speaker is:  Lorenzo_DeMarchis\n",
      "Prediction is:  Benjamin_Netanyau\n",
      "Speaker is:  Lorenzo_DeMarchis\n",
      "Prediction is:  Benjamin_Netanyau\n",
      "Speaker is:  Lorenzo_DeMarchis\n",
      "Prediction is:  Benjamin_Netanyau\n",
      "Speaker is:  Luigi_Saetta\n",
      "Prediction is:  Magaret_Tarcher\n",
      "Speaker is:  Jens_Stoltenberg\n",
      "Prediction is:  Benjamin_Netanyau\n",
      "Speaker is:  Luigi_Saetta\n",
      "Prediction is:  Roberta_S\n",
      "Speaker is:  Benjamin_Netanyau\n",
      "Prediction is:  Magaret_Tarcher\n",
      "Speaker is:  Luigi_Saetta\n",
      "Prediction is:  Claudio_Tesei\n",
      "Speaker is:  Julia_Gillard\n",
      "Prediction is:  Magaret_Tarcher\n",
      "Speaker is:  Roberta_S\n",
      "Prediction is:  Magaret_Tarcher\n",
      "Speaker is:  Jens_Stoltenberg\n",
      "Prediction is:  Nelson_Mandela\n",
      "Speaker is:  Luigi_Saetta\n",
      "Prediction is:  Roberta_S\n",
      "Speaker is:  Jens_Stoltenberg\n",
      "Prediction is:  Lorenzo_DeMarchis\n",
      "Speaker is:  Luigi_Saetta\n",
      "Prediction is:  Jens_Stoltenberg\n",
      "Speaker is:  Magaret_Tarcher\n",
      "Prediction is:  Benjamin_Netanyau\n",
      "Speaker is:  Benjamin_Netanyau\n",
      "Prediction is:  Luigi_Saetta\n",
      "Speaker is:  Luigi_Saetta\n",
      "Prediction is:  Roberta_S\n",
      "Speaker is:  Luigi_Saetta\n",
      "Prediction is:  Benjamin_Netanyau\n",
      "Speaker is:  Jens_Stoltenberg\n",
      "Prediction is:  Luigi_Saetta\n",
      "Speaker is:  Claudio_Tesei\n",
      "Prediction is:  Roberta_S\n",
      "Speaker is:  Jens_Stoltenberg\n",
      "Prediction is:  Julia_Gillard\n",
      "Speaker is:  Claudio_Tesei\n",
      "Prediction is:  Julia_Gillard\n",
      "Speaker is:  Claudio_Tesei\n",
      "Prediction is:  Lorenzo_DeMarchis\n",
      "Speaker is:  Claudio_Tesei\n",
      "Prediction is:  Benjamin_Netanyau\n",
      "Speaker is:  Luigi_Saetta\n",
      "Prediction is:  Benjamin_Netanyau\n",
      "Speaker is:  Benjamin_Netanyau\n",
      "Prediction is:  Lorenzo_DeMarchis\n",
      "Speaker is:  Jens_Stoltenberg\n",
      "Prediction is:  Julia_Gillard\n",
      "Speaker is:  Lorenzo_DeMarchis\n",
      "Prediction is:  Julia_Gillard\n",
      "Speaker is:  Luigi_Saetta\n",
      "Prediction is:  Nelson_Mandela\n",
      "Speaker is:  Lorenzo_DeMarchis\n",
      "Prediction is:  Magaret_Tarcher\n",
      "Speaker is:  Lorenzo_DeMarchis\n",
      "Prediction is:  Benjamin_Netanyau\n",
      "Speaker is:  Magaret_Tarcher\n",
      "Prediction is:  Julia_Gillard\n",
      "Speaker is:  Jens_Stoltenberg\n",
      "Prediction is:  Julia_Gillard\n",
      "Speaker is:  Luigi_Saetta\n",
      "Prediction is:  Jens_Stoltenberg\n",
      "Speaker is:  Claudio_Tesei\n",
      "Prediction is:  Benjamin_Netanyau\n",
      "Speaker is:  Jens_Stoltenberg\n",
      "Prediction is:  Julia_Gillard\n",
      "Speaker is:  Magaret_Tarcher\n",
      "Prediction is:  Benjamin_Netanyau\n",
      "Speaker is:  Julia_Gillard\n",
      "Prediction is:  Benjamin_Netanyau\n",
      "Speaker is:  Magaret_Tarcher\n",
      "Prediction is:  Jens_Stoltenberg\n",
      "Speaker is:  Luigi_Saetta\n",
      "Prediction is:  Roberta_S\n"
     ]
    }
   ],
   "source": [
    "# stampa tutte le classificazioni errate sul test set (360 samples)\n",
    "for i in range(0,len(y_test)):\n",
    "    if y_test[i] != y_pred[i]:\n",
    "        print('Speaker is: ', y_test[i])\n",
    "        print('Prediction is: ', y_pred[i])"
   ]
  },
  {
   "cell_type": "markdown",
   "id": "d66130a0",
   "metadata": {},
   "source": [
    "### LightGbm"
   ]
  },
  {
   "cell_type": "code",
   "execution_count": 18,
   "id": "99d82759",
   "metadata": {},
   "outputs": [],
   "source": [
    "light_clf = LGBMClassifier(n_estimators=100, learning_rate=0.03)"
   ]
  },
  {
   "cell_type": "code",
   "execution_count": 19,
   "id": "7fbd957a",
   "metadata": {},
   "outputs": [
    {
     "data": {
      "text/plain": [
       "LGBMClassifier(learning_rate=0.03)"
      ]
     },
     "execution_count": 19,
     "metadata": {},
     "output_type": "execute_result"
    }
   ],
   "source": [
    "light_clf.fit(np.reshape(np.array(X_train), [n_train_samples,512]), y_train, verbose=True)"
   ]
  },
  {
   "cell_type": "code",
   "execution_count": 20,
   "id": "7a07de1b",
   "metadata": {},
   "outputs": [],
   "source": [
    "y_pred_light = light_clf.predict(np.reshape(np.array(X_test), [n_test_samples,512]))\n",
    "accuracy = accuracy_score(y_test, y_pred_light)\n",
    "f1 = f1_score(y_test, y_pred_light, average='weighted')\n",
    "fb = fbeta_score(y_test, y_pred_light, 0.5, average='weighted')"
   ]
  },
  {
   "cell_type": "code",
   "execution_count": 21,
   "id": "eb39e210",
   "metadata": {},
   "outputs": [
    {
     "name": "stdout",
     "output_type": "stream",
     "text": [
      "Accuracy Score is:  0.9259259259259259\n",
      "F1 score is:  0.9255697822722236\n",
      "Fbeta Score is:  0.9266309681807839\n"
     ]
    }
   ],
   "source": [
    "print('Accuracy Score is: ', accuracy)\n",
    "print('F1 score is: ', f1)\n",
    "print('Fbeta Score is: ', fb)"
   ]
  },
  {
   "cell_type": "code",
   "execution_count": 22,
   "id": "a57a0445",
   "metadata": {},
   "outputs": [
    {
     "name": "stdout",
     "output_type": "stream",
     "text": [
      "Speaker is:  Roberta_S\n",
      "Prediction is:  Luigi_Saetta\n",
      "Speaker is:  Luigi_Saetta\n",
      "Prediction is:  Jens_Stoltenberg\n",
      "Speaker is:  Lorenzo_DeMarchis\n",
      "Prediction is:  Jens_Stoltenberg\n",
      "Speaker is:  Roberta_S\n",
      "Prediction is:  Luigi_Saetta\n",
      "Speaker is:  Lorenzo_DeMarchis\n",
      "Prediction is:  Jens_Stoltenberg\n",
      "Speaker is:  Lorenzo_DeMarchis\n",
      "Prediction is:  Luigi_Saetta\n",
      "Speaker is:  Lorenzo_DeMarchis\n",
      "Prediction is:  Benjamin_Netanyau\n",
      "Speaker is:  Lorenzo_DeMarchis\n",
      "Prediction is:  Benjamin_Netanyau\n",
      "Speaker is:  Lorenzo_DeMarchis\n",
      "Prediction is:  Benjamin_Netanyau\n",
      "Speaker is:  Roberta_S\n",
      "Prediction is:  Luigi_Saetta\n",
      "Speaker is:  Jens_Stoltenberg\n",
      "Prediction is:  Benjamin_Netanyau\n",
      "Speaker is:  Luigi_Saetta\n",
      "Prediction is:  Roberta_S\n",
      "Speaker is:  Benjamin_Netanyau\n",
      "Prediction is:  Magaret_Tarcher\n",
      "Speaker is:  Luigi_Saetta\n",
      "Prediction is:  Claudio_Tesei\n",
      "Speaker is:  Julia_Gillard\n",
      "Prediction is:  Magaret_Tarcher\n",
      "Speaker is:  Jens_Stoltenberg\n",
      "Prediction is:  Nelson_Mandela\n",
      "Speaker is:  Luigi_Saetta\n",
      "Prediction is:  Roberta_S\n",
      "Speaker is:  Luigi_Saetta\n",
      "Prediction is:  Jens_Stoltenberg\n",
      "Speaker is:  Magaret_Tarcher\n",
      "Prediction is:  Benjamin_Netanyau\n",
      "Speaker is:  Benjamin_Netanyau\n",
      "Prediction is:  Luigi_Saetta\n",
      "Speaker is:  Luigi_Saetta\n",
      "Prediction is:  Roberta_S\n",
      "Speaker is:  Luigi_Saetta\n",
      "Prediction is:  Benjamin_Netanyau\n",
      "Speaker is:  Jens_Stoltenberg\n",
      "Prediction is:  Luigi_Saetta\n",
      "Speaker is:  Claudio_Tesei\n",
      "Prediction is:  Roberta_S\n",
      "Speaker is:  Jens_Stoltenberg\n",
      "Prediction is:  Julia_Gillard\n",
      "Speaker is:  Claudio_Tesei\n",
      "Prediction is:  Julia_Gillard\n",
      "Speaker is:  Claudio_Tesei\n",
      "Prediction is:  Lorenzo_DeMarchis\n",
      "Speaker is:  Claudio_Tesei\n",
      "Prediction is:  Julia_Gillard\n",
      "Speaker is:  Luigi_Saetta\n",
      "Prediction is:  Benjamin_Netanyau\n",
      "Speaker is:  Claudio_Tesei\n",
      "Prediction is:  Lorenzo_DeMarchis\n",
      "Speaker is:  Jens_Stoltenberg\n",
      "Prediction is:  Julia_Gillard\n",
      "Speaker is:  Luigi_Saetta\n",
      "Prediction is:  Nelson_Mandela\n",
      "Speaker is:  Lorenzo_DeMarchis\n",
      "Prediction is:  Benjamin_Netanyau\n",
      "Speaker is:  Lorenzo_DeMarchis\n",
      "Prediction is:  Benjamin_Netanyau\n",
      "Speaker is:  Magaret_Tarcher\n",
      "Prediction is:  Julia_Gillard\n",
      "Speaker is:  Jens_Stoltenberg\n",
      "Prediction is:  Julia_Gillard\n",
      "Speaker is:  Luigi_Saetta\n",
      "Prediction is:  Jens_Stoltenberg\n",
      "Speaker is:  Jens_Stoltenberg\n",
      "Prediction is:  Magaret_Tarcher\n",
      "Speaker is:  Claudio_Tesei\n",
      "Prediction is:  Benjamin_Netanyau\n",
      "Speaker is:  Jens_Stoltenberg\n",
      "Prediction is:  Nelson_Mandela\n",
      "Speaker is:  Jens_Stoltenberg\n",
      "Prediction is:  Julia_Gillard\n",
      "Speaker is:  Magaret_Tarcher\n",
      "Prediction is:  Julia_Gillard\n",
      "Speaker is:  Julia_Gillard\n",
      "Prediction is:  Benjamin_Netanyau\n",
      "Speaker is:  Luigi_Saetta\n",
      "Prediction is:  Roberta_S\n"
     ]
    }
   ],
   "source": [
    "# stampa tutte le classificazioni errate sul test set (360 samples)\n",
    "for i in range(0,len(y_test)):\n",
    "    if y_test[i] != y_pred_light[i]:\n",
    "        print('Speaker is: ', y_test[i])\n",
    "        print('Prediction is: ', y_pred_light[i])"
   ]
  },
  {
   "cell_type": "code",
   "execution_count": null,
   "id": "da06fac4",
   "metadata": {},
   "outputs": [],
   "source": []
  }
 ],
 "metadata": {
  "kernelspec": {
   "display_name": "Python [conda env:mlgpuv1]",
   "language": "python",
   "name": "conda-env-mlgpuv1-py"
  },
  "language_info": {
   "codemirror_mode": {
    "name": "ipython",
    "version": 3
   },
   "file_extension": ".py",
   "mimetype": "text/x-python",
   "name": "python",
   "nbconvert_exporter": "python",
   "pygments_lexer": "ipython3",
   "version": "3.6.11"
  }
 },
 "nbformat": 4,
 "nbformat_minor": 5
}
